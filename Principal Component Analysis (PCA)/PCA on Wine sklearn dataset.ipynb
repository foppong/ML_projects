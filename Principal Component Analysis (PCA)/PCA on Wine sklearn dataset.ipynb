{
 "cells": [
  {
   "cell_type": "code",
   "execution_count": 2,
   "metadata": {},
   "outputs": [],
   "source": [
    "import numpy as np\n",
    "import pandas as pd\n",
    "\n",
    "import matplotlib.pyplot as plt\n",
    "import pylab as plt\n",
    "import seaborn as sb\n",
    "from IPython.display import Image\n",
    "from IPython.core.display import HTML\n",
    "from pylab import rcParams\n",
    "\n",
    "import sklearn\n",
    "from sklearn import decomposition\n",
    "from sklearn.decomposition import PCA\n",
    "from sklearn import datasets"
   ]
  },
  {
   "cell_type": "code",
   "execution_count": 20,
   "metadata": {},
   "outputs": [],
   "source": [
    "%matplotlib inline\n",
    "rcParams['figure.figsize'] = 5, 4\n",
    "sb.set_style('whitegrid')"
   ]
  },
  {
   "cell_type": "markdown",
   "metadata": {},
   "source": [
    "### Singular Value Decomposition (SVD)"
   ]
  },
  {
   "cell_type": "code",
   "execution_count": 24,
   "metadata": {},
   "outputs": [],
   "source": [
    "# A linear algebra method that decomposes a matrix into three resultant\n",
    "# matrices to reduce information redundancy and noise.\n",
    "# Most commonly used for principal component analysis\n",
    "# A = u x v x S\n",
    "# A = original matrix\n",
    "# u = left orthogonal matrix; holds important, nonredundant information about obserbvations\n",
    "# v = right orthogonal matrix, holds important, nonredundant information on features\n",
    "# S = diagonal matrix; contains all of the information about the decomposition performed during the compression"
   ]
  },
  {
   "cell_type": "markdown",
   "metadata": {},
   "source": [
    "### PCA on the wine dataset"
   ]
  },
  {
   "cell_type": "code",
   "execution_count": 36,
   "metadata": {
    "scrolled": true
   },
   "outputs": [
    {
     "data": {
      "text/plain": [
       "array([[1.423e+01, 1.710e+00, 2.430e+00, 1.560e+01, 1.270e+02, 2.800e+00,\n",
       "        3.060e+00, 2.800e-01, 2.290e+00, 5.640e+00, 1.040e+00, 3.920e+00,\n",
       "        1.065e+03],\n",
       "       [1.320e+01, 1.780e+00, 2.140e+00, 1.120e+01, 1.000e+02, 2.650e+00,\n",
       "        2.760e+00, 2.600e-01, 1.280e+00, 4.380e+00, 1.050e+00, 3.400e+00,\n",
       "        1.050e+03],\n",
       "       [1.316e+01, 2.360e+00, 2.670e+00, 1.860e+01, 1.010e+02, 2.800e+00,\n",
       "        3.240e+00, 3.000e-01, 2.810e+00, 5.680e+00, 1.030e+00, 3.170e+00,\n",
       "        1.185e+03],\n",
       "       [1.437e+01, 1.950e+00, 2.500e+00, 1.680e+01, 1.130e+02, 3.850e+00,\n",
       "        3.490e+00, 2.400e-01, 2.180e+00, 7.800e+00, 8.600e-01, 3.450e+00,\n",
       "        1.480e+03],\n",
       "       [1.324e+01, 2.590e+00, 2.870e+00, 2.100e+01, 1.180e+02, 2.800e+00,\n",
       "        2.690e+00, 3.900e-01, 1.820e+00, 4.320e+00, 1.040e+00, 2.930e+00,\n",
       "        7.350e+02],\n",
       "       [1.420e+01, 1.760e+00, 2.450e+00, 1.520e+01, 1.120e+02, 3.270e+00,\n",
       "        3.390e+00, 3.400e-01, 1.970e+00, 6.750e+00, 1.050e+00, 2.850e+00,\n",
       "        1.450e+03],\n",
       "       [1.439e+01, 1.870e+00, 2.450e+00, 1.460e+01, 9.600e+01, 2.500e+00,\n",
       "        2.520e+00, 3.000e-01, 1.980e+00, 5.250e+00, 1.020e+00, 3.580e+00,\n",
       "        1.290e+03],\n",
       "       [1.406e+01, 2.150e+00, 2.610e+00, 1.760e+01, 1.210e+02, 2.600e+00,\n",
       "        2.510e+00, 3.100e-01, 1.250e+00, 5.050e+00, 1.060e+00, 3.580e+00,\n",
       "        1.295e+03],\n",
       "       [1.483e+01, 1.640e+00, 2.170e+00, 1.400e+01, 9.700e+01, 2.800e+00,\n",
       "        2.980e+00, 2.900e-01, 1.980e+00, 5.200e+00, 1.080e+00, 2.850e+00,\n",
       "        1.045e+03],\n",
       "       [1.386e+01, 1.350e+00, 2.270e+00, 1.600e+01, 9.800e+01, 2.980e+00,\n",
       "        3.150e+00, 2.200e-01, 1.850e+00, 7.220e+00, 1.010e+00, 3.550e+00,\n",
       "        1.045e+03]])"
      ]
     },
     "execution_count": 36,
     "metadata": {},
     "output_type": "execute_result"
    }
   ],
   "source": [
    "wine = datasets.load_wine()\n",
    "X = wine.data\n",
    "variable_names = wine.feature_names\n",
    "X[0:10,]"
   ]
  },
  {
   "cell_type": "code",
   "execution_count": 32,
   "metadata": {},
   "outputs": [],
   "source": [
    "pca = decomposition.PCA()\n",
    "wine_pca = pca.fit_transform(X)"
   ]
  },
  {
   "cell_type": "code",
   "execution_count": 25,
   "metadata": {},
   "outputs": [
    {
     "data": {
      "text/plain": [
       "array([9.98091230e-01, 1.73591562e-03, 9.49589576e-05, 5.02173562e-05,\n",
       "       1.23636847e-05, 8.46213034e-06, 2.80681456e-06, 1.52308053e-06,\n",
       "       1.12783044e-06, 7.21415811e-07, 3.78060267e-07, 2.12013755e-07,\n",
       "       8.25392788e-08])"
      ]
     },
     "execution_count": 25,
     "metadata": {},
     "output_type": "execute_result"
    }
   ],
   "source": [
    "# Explained Variance Ratio: tells us how much information is \n",
    "# compressed into the first few components. When deciding how many \n",
    "# components to keep, lookat the percent of cumulative variance. \n",
    "# Make sure to retain at least 70% of the dataset's original information\n",
    "pca.explained_variance_ratio_"
   ]
  },
  {
   "cell_type": "code",
   "execution_count": 26,
   "metadata": {},
   "outputs": [
    {
     "data": {
      "text/plain": [
       "0.9999999999999999"
      ]
     },
     "execution_count": 26,
     "metadata": {},
     "output_type": "execute_result"
    }
   ],
   "source": [
    "pca.explained_variance_ratio_.sum()"
   ]
  },
  {
   "cell_type": "code",
   "execution_count": 18,
   "metadata": {},
   "outputs": [
    {
     "data": {
      "text/html": [
       "<div>\n",
       "<style scoped>\n",
       "    .dataframe tbody tr th:only-of-type {\n",
       "        vertical-align: middle;\n",
       "    }\n",
       "\n",
       "    .dataframe tbody tr th {\n",
       "        vertical-align: top;\n",
       "    }\n",
       "\n",
       "    .dataframe thead th {\n",
       "        text-align: right;\n",
       "    }\n",
       "</style>\n",
       "<table border=\"1\" class=\"dataframe\">\n",
       "  <thead>\n",
       "    <tr style=\"text-align: right;\">\n",
       "      <th></th>\n",
       "      <th>alcohol</th>\n",
       "      <th>malic_acid</th>\n",
       "      <th>ash</th>\n",
       "      <th>alcalinity_of_ash</th>\n",
       "      <th>magnesium</th>\n",
       "      <th>total_phenols</th>\n",
       "      <th>flavanoids</th>\n",
       "      <th>nonflavanoid_phenols</th>\n",
       "      <th>proanthocyanins</th>\n",
       "      <th>color_intensity</th>\n",
       "      <th>hue</th>\n",
       "      <th>od280/od315_of_diluted_wines</th>\n",
       "      <th>proline</th>\n",
       "    </tr>\n",
       "  </thead>\n",
       "  <tbody>\n",
       "    <tr>\n",
       "      <th>0</th>\n",
       "      <td>0.001659</td>\n",
       "      <td>-0.000681</td>\n",
       "      <td>0.000195</td>\n",
       "      <td>-0.004671</td>\n",
       "      <td>0.017868</td>\n",
       "      <td>0.000990</td>\n",
       "      <td>0.001567</td>\n",
       "      <td>-0.000123</td>\n",
       "      <td>0.000601</td>\n",
       "      <td>0.002327</td>\n",
       "      <td>0.000171</td>\n",
       "      <td>0.000705</td>\n",
       "      <td>0.999823</td>\n",
       "    </tr>\n",
       "    <tr>\n",
       "      <th>1</th>\n",
       "      <td>0.001203</td>\n",
       "      <td>0.002155</td>\n",
       "      <td>0.004594</td>\n",
       "      <td>0.026450</td>\n",
       "      <td>0.999344</td>\n",
       "      <td>0.000878</td>\n",
       "      <td>-0.000052</td>\n",
       "      <td>-0.001354</td>\n",
       "      <td>0.005004</td>\n",
       "      <td>0.015100</td>\n",
       "      <td>-0.000763</td>\n",
       "      <td>-0.003495</td>\n",
       "      <td>-0.017774</td>\n",
       "    </tr>\n",
       "    <tr>\n",
       "      <th>2</th>\n",
       "      <td>-0.016874</td>\n",
       "      <td>-0.122003</td>\n",
       "      <td>-0.051987</td>\n",
       "      <td>-0.938593</td>\n",
       "      <td>0.029780</td>\n",
       "      <td>0.040485</td>\n",
       "      <td>0.085443</td>\n",
       "      <td>-0.013511</td>\n",
       "      <td>0.024659</td>\n",
       "      <td>-0.291398</td>\n",
       "      <td>0.025978</td>\n",
       "      <td>0.070324</td>\n",
       "      <td>-0.004529</td>\n",
       "    </tr>\n",
       "    <tr>\n",
       "      <th>3</th>\n",
       "      <td>-0.141447</td>\n",
       "      <td>-0.160390</td>\n",
       "      <td>0.009773</td>\n",
       "      <td>0.330965</td>\n",
       "      <td>0.005394</td>\n",
       "      <td>0.074585</td>\n",
       "      <td>0.169087</td>\n",
       "      <td>-0.010806</td>\n",
       "      <td>0.050121</td>\n",
       "      <td>-0.878894</td>\n",
       "      <td>0.060035</td>\n",
       "      <td>0.178200</td>\n",
       "      <td>0.003113</td>\n",
       "    </tr>\n",
       "    <tr>\n",
       "      <th>4</th>\n",
       "      <td>0.020337</td>\n",
       "      <td>-0.612883</td>\n",
       "      <td>0.020176</td>\n",
       "      <td>0.064352</td>\n",
       "      <td>-0.006149</td>\n",
       "      <td>0.315245</td>\n",
       "      <td>0.524761</td>\n",
       "      <td>-0.029648</td>\n",
       "      <td>0.251183</td>\n",
       "      <td>0.331747</td>\n",
       "      <td>0.051524</td>\n",
       "      <td>0.260639</td>\n",
       "      <td>-0.002299</td>\n",
       "    </tr>\n",
       "    <tr>\n",
       "      <th>5</th>\n",
       "      <td>0.194120</td>\n",
       "      <td>0.742473</td>\n",
       "      <td>0.041753</td>\n",
       "      <td>-0.024065</td>\n",
       "      <td>-0.001924</td>\n",
       "      <td>0.278717</td>\n",
       "      <td>0.433598</td>\n",
       "      <td>-0.021953</td>\n",
       "      <td>0.241884</td>\n",
       "      <td>0.002740</td>\n",
       "      <td>-0.023776</td>\n",
       "      <td>0.288913</td>\n",
       "      <td>-0.001212</td>\n",
       "    </tr>\n",
       "    <tr>\n",
       "      <th>6</th>\n",
       "      <td>-0.923280</td>\n",
       "      <td>0.150110</td>\n",
       "      <td>-0.045010</td>\n",
       "      <td>-0.031527</td>\n",
       "      <td>-0.001797</td>\n",
       "      <td>0.020186</td>\n",
       "      <td>0.038869</td>\n",
       "      <td>0.004665</td>\n",
       "      <td>0.309799</td>\n",
       "      <td>0.112837</td>\n",
       "      <td>-0.030820</td>\n",
       "      <td>-0.101974</td>\n",
       "      <td>0.001076</td>\n",
       "    </tr>\n",
       "    <tr>\n",
       "      <th>7</th>\n",
       "      <td>-0.284821</td>\n",
       "      <td>0.064674</td>\n",
       "      <td>0.149340</td>\n",
       "      <td>-0.015154</td>\n",
       "      <td>0.003552</td>\n",
       "      <td>0.177238</td>\n",
       "      <td>0.248117</td>\n",
       "      <td>-0.006498</td>\n",
       "      <td>-0.870433</td>\n",
       "      <td>0.081287</td>\n",
       "      <td>0.002952</td>\n",
       "      <td>0.186715</td>\n",
       "      <td>-0.000010</td>\n",
       "    </tr>\n",
       "    <tr>\n",
       "      <th>8</th>\n",
       "      <td>-0.086601</td>\n",
       "      <td>-0.015662</td>\n",
       "      <td>-0.073650</td>\n",
       "      <td>-0.002045</td>\n",
       "      <td>0.001964</td>\n",
       "      <td>-0.255673</td>\n",
       "      <td>-0.378307</td>\n",
       "      <td>-0.036752</td>\n",
       "      <td>0.051520</td>\n",
       "      <td>0.099029</td>\n",
       "      <td>-0.033065</td>\n",
       "      <td>0.873747</td>\n",
       "      <td>0.000073</td>\n",
       "    </tr>\n",
       "    <tr>\n",
       "      <th>9</th>\n",
       "      <td>-0.002245</td>\n",
       "      <td>-0.018509</td>\n",
       "      <td>-0.086800</td>\n",
       "      <td>0.003554</td>\n",
       "      <td>-0.000041</td>\n",
       "      <td>0.847195</td>\n",
       "      <td>-0.520138</td>\n",
       "      <td>0.037713</td>\n",
       "      <td>0.009723</td>\n",
       "      <td>-0.023147</td>\n",
       "      <td>-0.038470</td>\n",
       "      <td>0.017017</td>\n",
       "      <td>0.000049</td>\n",
       "    </tr>\n",
       "    <tr>\n",
       "      <th>10</th>\n",
       "      <td>-0.014972</td>\n",
       "      <td>-0.023188</td>\n",
       "      <td>0.954011</td>\n",
       "      <td>-0.052822</td>\n",
       "      <td>-0.003025</td>\n",
       "      <td>0.008802</td>\n",
       "      <td>-0.133205</td>\n",
       "      <td>0.199179</td>\n",
       "      <td>0.135621</td>\n",
       "      <td>-0.009820</td>\n",
       "      <td>0.097511</td>\n",
       "      <td>0.028485</td>\n",
       "      <td>-0.000240</td>\n",
       "    </tr>\n",
       "    <tr>\n",
       "      <th>11</th>\n",
       "      <td>-0.015651</td>\n",
       "      <td>0.067296</td>\n",
       "      <td>-0.132063</td>\n",
       "      <td>0.005394</td>\n",
       "      <td>0.000621</td>\n",
       "      <td>0.003883</td>\n",
       "      <td>-0.037488</td>\n",
       "      <td>0.147552</td>\n",
       "      <td>-0.013119</td>\n",
       "      <td>0.050356</td>\n",
       "      <td>0.975562</td>\n",
       "      <td>0.011630</td>\n",
       "      <td>-0.000100</td>\n",
       "    </tr>\n",
       "    <tr>\n",
       "      <th>12</th>\n",
       "      <td>0.008029</td>\n",
       "      <td>-0.011090</td>\n",
       "      <td>-0.173686</td>\n",
       "      <td>0.001940</td>\n",
       "      <td>0.002285</td>\n",
       "      <td>-0.026691</td>\n",
       "      <td>0.069599</td>\n",
       "      <td>0.966466</td>\n",
       "      <td>-0.017604</td>\n",
       "      <td>-0.004633</td>\n",
       "      <td>-0.166551</td>\n",
       "      <td>0.044192</td>\n",
       "      <td>0.000036</td>\n",
       "    </tr>\n",
       "  </tbody>\n",
       "</table>\n",
       "</div>"
      ],
      "text/plain": [
       "     alcohol  malic_acid       ash  alcalinity_of_ash  magnesium  \\\n",
       "0   0.001659   -0.000681  0.000195          -0.004671   0.017868   \n",
       "1   0.001203    0.002155  0.004594           0.026450   0.999344   \n",
       "2  -0.016874   -0.122003 -0.051987          -0.938593   0.029780   \n",
       "3  -0.141447   -0.160390  0.009773           0.330965   0.005394   \n",
       "4   0.020337   -0.612883  0.020176           0.064352  -0.006149   \n",
       "5   0.194120    0.742473  0.041753          -0.024065  -0.001924   \n",
       "6  -0.923280    0.150110 -0.045010          -0.031527  -0.001797   \n",
       "7  -0.284821    0.064674  0.149340          -0.015154   0.003552   \n",
       "8  -0.086601   -0.015662 -0.073650          -0.002045   0.001964   \n",
       "9  -0.002245   -0.018509 -0.086800           0.003554  -0.000041   \n",
       "10 -0.014972   -0.023188  0.954011          -0.052822  -0.003025   \n",
       "11 -0.015651    0.067296 -0.132063           0.005394   0.000621   \n",
       "12  0.008029   -0.011090 -0.173686           0.001940   0.002285   \n",
       "\n",
       "    total_phenols  flavanoids  nonflavanoid_phenols  proanthocyanins  \\\n",
       "0        0.000990    0.001567             -0.000123         0.000601   \n",
       "1        0.000878   -0.000052             -0.001354         0.005004   \n",
       "2        0.040485    0.085443             -0.013511         0.024659   \n",
       "3        0.074585    0.169087             -0.010806         0.050121   \n",
       "4        0.315245    0.524761             -0.029648         0.251183   \n",
       "5        0.278717    0.433598             -0.021953         0.241884   \n",
       "6        0.020186    0.038869              0.004665         0.309799   \n",
       "7        0.177238    0.248117             -0.006498        -0.870433   \n",
       "8       -0.255673   -0.378307             -0.036752         0.051520   \n",
       "9        0.847195   -0.520138              0.037713         0.009723   \n",
       "10       0.008802   -0.133205              0.199179         0.135621   \n",
       "11       0.003883   -0.037488              0.147552        -0.013119   \n",
       "12      -0.026691    0.069599              0.966466        -0.017604   \n",
       "\n",
       "    color_intensity       hue  od280/od315_of_diluted_wines   proline  \n",
       "0          0.002327  0.000171                      0.000705  0.999823  \n",
       "1          0.015100 -0.000763                     -0.003495 -0.017774  \n",
       "2         -0.291398  0.025978                      0.070324 -0.004529  \n",
       "3         -0.878894  0.060035                      0.178200  0.003113  \n",
       "4          0.331747  0.051524                      0.260639 -0.002299  \n",
       "5          0.002740 -0.023776                      0.288913 -0.001212  \n",
       "6          0.112837 -0.030820                     -0.101974  0.001076  \n",
       "7          0.081287  0.002952                      0.186715 -0.000010  \n",
       "8          0.099029 -0.033065                      0.873747  0.000073  \n",
       "9         -0.023147 -0.038470                      0.017017  0.000049  \n",
       "10        -0.009820  0.097511                      0.028485 -0.000240  \n",
       "11         0.050356  0.975562                      0.011630 -0.000100  \n",
       "12        -0.004633 -0.166551                      0.044192  0.000036  "
      ]
     },
     "execution_count": 18,
     "metadata": {},
     "output_type": "execute_result"
    }
   ],
   "source": [
    "comps = pd.DataFrame(pca.components_, columns=variable_names)\n",
    "comps"
   ]
  },
  {
   "cell_type": "code",
   "execution_count": 27,
   "metadata": {},
   "outputs": [
    {
     "data": {
      "text/plain": [
       "<matplotlib.axes._subplots.AxesSubplot at 0x1a2487b5d0>"
      ]
     },
     "execution_count": 27,
     "metadata": {},
     "output_type": "execute_result"
    },
    {
     "data": {
      "image/png": "[encoded data removed]",
      "text/plain": [
       "<Figure size 360x288 with 2 Axes>"
      ]
     },
     "metadata": {},
     "output_type": "display_data"
    }
   ],
   "source": [
    "# Correlation heatmap to see how the dataset variables correlate with the \n",
    "# principal components\n",
    "sb.heatmap(comps)"
   ]
  },
  {
   "cell_type": "code",
   "execution_count": null,
   "metadata": {},
   "outputs": [],
   "source": []
  }
 ],
 "metadata": {
  "kernelspec": {
   "display_name": "Python 2",
   "language": "python",
   "name": "python2"
  },
  "language_info": {
   "codemirror_mode": {
    "name": "ipython",
    "version": 2
   },
   "file_extension": ".py",
   "mimetype": "text/x-python",
   "name": "python",
   "nbconvert_exporter": "python",
   "pygments_lexer": "ipython2",
   "version": "2.7.15"
  }
 },
 "nbformat": 4,
 "nbformat_minor": 2
}
