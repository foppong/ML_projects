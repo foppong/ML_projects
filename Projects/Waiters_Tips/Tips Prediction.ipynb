{
 "cells": [
  {
   "cell_type": "markdown",
   "metadata": {},
   "source": [
    "# Setup"
   ]
  },
  {
   "cell_type": "code",
   "execution_count": 11,
   "metadata": {},
   "outputs": [],
   "source": [
    "# To support both python 2 and python 3\n",
    "from __future__ import division, print_function, unicode_literals\n",
    "\n",
    "# Common imports\n",
    "import numpy as np\n",
    "import pandas as pd\n",
    "from pandas import Series, DataFrame\n",
    "\n",
    "# to make this notebook's output stable across runs\n",
    "np.random.seed(42)\n",
    "\n",
    "# To plot pretty figures\n",
    "%matplotlib inline\n",
    "import matplotlib as mpl\n",
    "import matplotlib.pyplot as plt\n",
    "mpl.rc('axes', labelsize=14)\n",
    "mpl.rc('xtick', labelsize=12)\n",
    "mpl.rc('ytick', labelsize=12)\n",
    "\n",
    "# Ignore useless warnings (see SciPy issue #5998)\n",
    "import warnings\n",
    "warnings.filterwarnings(action=\"ignore\", message=\"^internal gelsd\")"
   ]
  },
  {
   "cell_type": "markdown",
   "metadata": {},
   "source": [
    "# Import Data"
   ]
  },
  {
   "cell_type": "code",
   "execution_count": 17,
   "metadata": {},
   "outputs": [],
   "source": [
    "address = '/Users/foppong/Desktop/Data_Analyses/Projects/Waiters_Tips/tips.csv'\n",
    "\n",
    "tips_data = pd.read_csv(address)"
   ]
  },
  {
   "cell_type": "code",
   "execution_count": 18,
   "metadata": {},
   "outputs": [
    {
     "data": {
      "text/html": [
       "<div>\n",
       "<style scoped>\n",
       "    .dataframe tbody tr th:only-of-type {\n",
       "        vertical-align: middle;\n",
       "    }\n",
       "\n",
       "    .dataframe tbody tr th {\n",
       "        vertical-align: top;\n",
       "    }\n",
       "\n",
       "    .dataframe thead th {\n",
       "        text-align: right;\n",
       "    }\n",
       "</style>\n",
       "<table border=\"1\" class=\"dataframe\">\n",
       "  <thead>\n",
       "    <tr style=\"text-align: right;\">\n",
       "      <th></th>\n",
       "      <th>total_bill</th>\n",
       "      <th>tip</th>\n",
       "      <th>sex</th>\n",
       "      <th>smoker</th>\n",
       "      <th>day</th>\n",
       "      <th>time</th>\n",
       "      <th>size</th>\n",
       "    </tr>\n",
       "  </thead>\n",
       "  <tbody>\n",
       "    <tr>\n",
       "      <th>0</th>\n",
       "      <td>16.99</td>\n",
       "      <td>1.01</td>\n",
       "      <td>Female</td>\n",
       "      <td>No</td>\n",
       "      <td>Sun</td>\n",
       "      <td>Dinner</td>\n",
       "      <td>2</td>\n",
       "    </tr>\n",
       "    <tr>\n",
       "      <th>1</th>\n",
       "      <td>10.34</td>\n",
       "      <td>1.66</td>\n",
       "      <td>Male</td>\n",
       "      <td>No</td>\n",
       "      <td>Sun</td>\n",
       "      <td>Dinner</td>\n",
       "      <td>3</td>\n",
       "    </tr>\n",
       "    <tr>\n",
       "      <th>2</th>\n",
       "      <td>21.01</td>\n",
       "      <td>3.50</td>\n",
       "      <td>Male</td>\n",
       "      <td>No</td>\n",
       "      <td>Sun</td>\n",
       "      <td>Dinner</td>\n",
       "      <td>3</td>\n",
       "    </tr>\n",
       "    <tr>\n",
       "      <th>3</th>\n",
       "      <td>23.68</td>\n",
       "      <td>3.31</td>\n",
       "      <td>Male</td>\n",
       "      <td>No</td>\n",
       "      <td>Sun</td>\n",
       "      <td>Dinner</td>\n",
       "      <td>2</td>\n",
       "    </tr>\n",
       "    <tr>\n",
       "      <th>4</th>\n",
       "      <td>24.59</td>\n",
       "      <td>3.61</td>\n",
       "      <td>Female</td>\n",
       "      <td>No</td>\n",
       "      <td>Sun</td>\n",
       "      <td>Dinner</td>\n",
       "      <td>4</td>\n",
       "    </tr>\n",
       "  </tbody>\n",
       "</table>\n",
       "</div>"
      ],
      "text/plain": [
       "   total_bill   tip     sex smoker  day    time  size\n",
       "0       16.99  1.01  Female     No  Sun  Dinner     2\n",
       "1       10.34  1.66    Male     No  Sun  Dinner     3\n",
       "2       21.01  3.50    Male     No  Sun  Dinner     3\n",
       "3       23.68  3.31    Male     No  Sun  Dinner     2\n",
       "4       24.59  3.61  Female     No  Sun  Dinner     4"
      ]
     },
     "execution_count": 18,
     "metadata": {},
     "output_type": "execute_result"
    }
   ],
   "source": [
    "tips_data.head()"
   ]
  },
  {
   "cell_type": "code",
   "execution_count": 19,
   "metadata": {},
   "outputs": [
    {
     "name": "stdout",
     "output_type": "stream",
     "text": [
      "<class 'pandas.core.frame.DataFrame'>\n",
      "RangeIndex: 244 entries, 0 to 243\n",
      "Data columns (total 7 columns):\n",
      "total_bill    244 non-null float64\n",
      "tip           244 non-null float64\n",
      "sex           244 non-null object\n",
      "smoker        244 non-null object\n",
      "day           244 non-null object\n",
      "time          244 non-null object\n",
      "size          244 non-null int64\n",
      "dtypes: float64(2), int64(1), object(4)\n",
      "memory usage: 13.4+ KB\n"
     ]
    }
   ],
   "source": [
    "tips_data.info()"
   ]
  },
  {
   "cell_type": "code",
   "execution_count": 22,
   "metadata": {},
   "outputs": [
    {
     "data": {
      "text/plain": [
       "Male      157\n",
       "Female     87\n",
       "Name: sex, dtype: int64"
      ]
     },
     "execution_count": 22,
     "metadata": {},
     "output_type": "execute_result"
    }
   ],
   "source": [
    "tips_data['sex'].value_counts()"
   ]
  },
  {
   "cell_type": "code",
   "execution_count": 20,
   "metadata": {},
   "outputs": [
    {
     "data": {
      "text/plain": [
       "No     151\n",
       "Yes     93\n",
       "Name: smoker, dtype: int64"
      ]
     },
     "execution_count": 20,
     "metadata": {},
     "output_type": "execute_result"
    }
   ],
   "source": [
    "tips_data['smoker'].value_counts()"
   ]
  },
  {
   "cell_type": "code",
   "execution_count": 23,
   "metadata": {},
   "outputs": [
    {
     "data": {
      "text/plain": [
       "Sat     87\n",
       "Sun     76\n",
       "Thur    62\n",
       "Fri     19\n",
       "Name: day, dtype: int64"
      ]
     },
     "execution_count": 23,
     "metadata": {},
     "output_type": "execute_result"
    }
   ],
   "source": [
    "tips_data['day'].value_counts()"
   ]
  },
  {
   "cell_type": "code",
   "execution_count": 24,
   "metadata": {},
   "outputs": [
    {
     "data": {
      "text/plain": [
       "Dinner    176\n",
       "Lunch      68\n",
       "Name: time, dtype: int64"
      ]
     },
     "execution_count": 24,
     "metadata": {},
     "output_type": "execute_result"
    }
   ],
   "source": [
    "tips_data['time'].value_counts()"
   ]
  },
  {
   "cell_type": "code",
   "execution_count": 25,
   "metadata": {},
   "outputs": [
    {
     "data": {
      "text/html": [
       "<div>\n",
       "<style scoped>\n",
       "    .dataframe tbody tr th:only-of-type {\n",
       "        vertical-align: middle;\n",
       "    }\n",
       "\n",
       "    .dataframe tbody tr th {\n",
       "        vertical-align: top;\n",
       "    }\n",
       "\n",
       "    .dataframe thead th {\n",
       "        text-align: right;\n",
       "    }\n",
       "</style>\n",
       "<table border=\"1\" class=\"dataframe\">\n",
       "  <thead>\n",
       "    <tr style=\"text-align: right;\">\n",
       "      <th></th>\n",
       "      <th>total_bill</th>\n",
       "      <th>tip</th>\n",
       "      <th>size</th>\n",
       "    </tr>\n",
       "  </thead>\n",
       "  <tbody>\n",
       "    <tr>\n",
       "      <th>count</th>\n",
       "      <td>244.000000</td>\n",
       "      <td>244.000000</td>\n",
       "      <td>244.000000</td>\n",
       "    </tr>\n",
       "    <tr>\n",
       "      <th>mean</th>\n",
       "      <td>19.785943</td>\n",
       "      <td>2.998279</td>\n",
       "      <td>2.569672</td>\n",
       "    </tr>\n",
       "    <tr>\n",
       "      <th>std</th>\n",
       "      <td>8.902412</td>\n",
       "      <td>1.383638</td>\n",
       "      <td>0.951100</td>\n",
       "    </tr>\n",
       "    <tr>\n",
       "      <th>min</th>\n",
       "      <td>3.070000</td>\n",
       "      <td>1.000000</td>\n",
       "      <td>1.000000</td>\n",
       "    </tr>\n",
       "    <tr>\n",
       "      <th>25%</th>\n",
       "      <td>13.347500</td>\n",
       "      <td>2.000000</td>\n",
       "      <td>2.000000</td>\n",
       "    </tr>\n",
       "    <tr>\n",
       "      <th>50%</th>\n",
       "      <td>17.795000</td>\n",
       "      <td>2.900000</td>\n",
       "      <td>2.000000</td>\n",
       "    </tr>\n",
       "    <tr>\n",
       "      <th>75%</th>\n",
       "      <td>24.127500</td>\n",
       "      <td>3.562500</td>\n",
       "      <td>3.000000</td>\n",
       "    </tr>\n",
       "    <tr>\n",
       "      <th>max</th>\n",
       "      <td>50.810000</td>\n",
       "      <td>10.000000</td>\n",
       "      <td>6.000000</td>\n",
       "    </tr>\n",
       "  </tbody>\n",
       "</table>\n",
       "</div>"
      ],
      "text/plain": [
       "       total_bill         tip        size\n",
       "count  244.000000  244.000000  244.000000\n",
       "mean    19.785943    2.998279    2.569672\n",
       "std      8.902412    1.383638    0.951100\n",
       "min      3.070000    1.000000    1.000000\n",
       "25%     13.347500    2.000000    2.000000\n",
       "50%     17.795000    2.900000    2.000000\n",
       "75%     24.127500    3.562500    3.000000\n",
       "max     50.810000   10.000000    6.000000"
      ]
     },
     "execution_count": 25,
     "metadata": {},
     "output_type": "execute_result"
    }
   ],
   "source": [
    "tips_data.describe()"
   ]
  },
  {
   "cell_type": "code",
   "execution_count": 26,
   "metadata": {},
   "outputs": [
    {
     "data": {
      "image/png": "[encoded data removed]",
      "text/plain": [
       "<Figure size 1440x1080 with 4 Axes>"
      ]
     },
     "metadata": {
      "needs_background": "light"
     },
     "output_type": "display_data"
    }
   ],
   "source": [
    "tips_data.hist(bins=50, figsize=(20,15))\n",
    "plt.show()"
   ]
  },
  {
   "cell_type": "markdown",
   "metadata": {},
   "source": [
    "### Create a Test Set"
   ]
  },
  {
   "cell_type": "code",
   "execution_count": 27,
   "metadata": {},
   "outputs": [],
   "source": [
    "from sklearn.model_selection import train_test_split\n",
    "\n",
    "train_set, test_set = train_test_split(tips_data, test_size=0.2, random_state=42)"
   ]
  },
  {
   "cell_type": "code",
   "execution_count": 28,
   "metadata": {},
   "outputs": [
    {
     "data": {
      "text/html": [
       "<div>\n",
       "<style scoped>\n",
       "    .dataframe tbody tr th:only-of-type {\n",
       "        vertical-align: middle;\n",
       "    }\n",
       "\n",
       "    .dataframe tbody tr th {\n",
       "        vertical-align: top;\n",
       "    }\n",
       "\n",
       "    .dataframe thead th {\n",
       "        text-align: right;\n",
       "    }\n",
       "</style>\n",
       "<table border=\"1\" class=\"dataframe\">\n",
       "  <thead>\n",
       "    <tr style=\"text-align: right;\">\n",
       "      <th></th>\n",
       "      <th>total_bill</th>\n",
       "      <th>tip</th>\n",
       "      <th>sex</th>\n",
       "      <th>smoker</th>\n",
       "      <th>day</th>\n",
       "      <th>time</th>\n",
       "      <th>size</th>\n",
       "    </tr>\n",
       "  </thead>\n",
       "  <tbody>\n",
       "    <tr>\n",
       "      <th>24</th>\n",
       "      <td>19.82</td>\n",
       "      <td>3.18</td>\n",
       "      <td>Male</td>\n",
       "      <td>No</td>\n",
       "      <td>Sat</td>\n",
       "      <td>Dinner</td>\n",
       "      <td>2</td>\n",
       "    </tr>\n",
       "    <tr>\n",
       "      <th>6</th>\n",
       "      <td>8.77</td>\n",
       "      <td>2.00</td>\n",
       "      <td>Male</td>\n",
       "      <td>No</td>\n",
       "      <td>Sun</td>\n",
       "      <td>Dinner</td>\n",
       "      <td>2</td>\n",
       "    </tr>\n",
       "    <tr>\n",
       "      <th>153</th>\n",
       "      <td>24.55</td>\n",
       "      <td>2.00</td>\n",
       "      <td>Male</td>\n",
       "      <td>No</td>\n",
       "      <td>Sun</td>\n",
       "      <td>Dinner</td>\n",
       "      <td>4</td>\n",
       "    </tr>\n",
       "    <tr>\n",
       "      <th>211</th>\n",
       "      <td>25.89</td>\n",
       "      <td>5.16</td>\n",
       "      <td>Male</td>\n",
       "      <td>Yes</td>\n",
       "      <td>Sat</td>\n",
       "      <td>Dinner</td>\n",
       "      <td>4</td>\n",
       "    </tr>\n",
       "    <tr>\n",
       "      <th>198</th>\n",
       "      <td>13.00</td>\n",
       "      <td>2.00</td>\n",
       "      <td>Female</td>\n",
       "      <td>Yes</td>\n",
       "      <td>Thur</td>\n",
       "      <td>Lunch</td>\n",
       "      <td>2</td>\n",
       "    </tr>\n",
       "  </tbody>\n",
       "</table>\n",
       "</div>"
      ],
      "text/plain": [
       "     total_bill   tip     sex smoker   day    time  size\n",
       "24        19.82  3.18    Male     No   Sat  Dinner     2\n",
       "6          8.77  2.00    Male     No   Sun  Dinner     2\n",
       "153       24.55  2.00    Male     No   Sun  Dinner     4\n",
       "211       25.89  5.16    Male    Yes   Sat  Dinner     4\n",
       "198       13.00  2.00  Female    Yes  Thur   Lunch     2"
      ]
     },
     "execution_count": 28,
     "metadata": {},
     "output_type": "execute_result"
    }
   ],
   "source": [
    "test_set.head()"
   ]
  },
  {
   "cell_type": "code",
   "execution_count": 70,
   "metadata": {},
   "outputs": [
    {
     "name": "stdout",
     "output_type": "stream",
     "text": [
      "195 train + 49 test\n"
     ]
    }
   ],
   "source": [
    "print(len(train_set), \"train +\", len(test_set), \"test\")"
   ]
  },
  {
   "cell_type": "markdown",
   "metadata": {},
   "source": [
    "# Discover and Visualize the Data to Gain Insights"
   ]
  },
  {
   "cell_type": "code",
   "execution_count": 44,
   "metadata": {},
   "outputs": [],
   "source": [
    "# Create a copy of training set for playing around with\n",
    "tips_data = train_set.copy()"
   ]
  },
  {
   "cell_type": "code",
   "execution_count": 45,
   "metadata": {},
   "outputs": [],
   "source": [
    "corr_matrix = tips_data.corr()"
   ]
  },
  {
   "cell_type": "code",
   "execution_count": 1,
   "metadata": {},
   "outputs": [
    {
     "ename": "NameError",
     "evalue": "name 'corr_matrix' is not defined",
     "output_type": "error",
     "traceback": [
      "\u001b[0;31m---------------------------------------------------------------------------\u001b[0m",
      "\u001b[0;31mNameError\u001b[0m                                 Traceback (most recent call last)",
      "\u001b[0;32m<ipython-input-1-f1189a24ac49>\u001b[0m in \u001b[0;36m<module>\u001b[0;34m()\u001b[0m\n\u001b[1;32m      1\u001b[0m \u001b[0;31m# Lets check corrleation to total_bill and size\u001b[0m\u001b[0;34m\u001b[0m\u001b[0;34m\u001b[0m\u001b[0m\n\u001b[0;32m----> 2\u001b[0;31m \u001b[0mcorr_matrix\u001b[0m\u001b[0;34m[\u001b[0m\u001b[0;34m\"tip\"\u001b[0m\u001b[0;34m]\u001b[0m\u001b[0;34m.\u001b[0m\u001b[0msort_values\u001b[0m\u001b[0;34m(\u001b[0m\u001b[0mascending\u001b[0m\u001b[0;34m=\u001b[0m\u001b[0mFalse\u001b[0m\u001b[0;34m)\u001b[0m\u001b[0;34m\u001b[0m\u001b[0m\n\u001b[0m",
      "\u001b[0;31mNameError\u001b[0m: name 'corr_matrix' is not defined"
     ]
    }
   ],
   "source": [
    "# Lets check corrleation to total_bill and size\n",
    "corr_matrix[\"tip\"].sort_values(ascending=False)"
   ]
  },
  {
   "cell_type": "code",
   "execution_count": 48,
   "metadata": {},
   "outputs": [
    {
     "data": {
      "text/plain": [
       "array([[<matplotlib.axes._subplots.AxesSubplot object at 0x1a1ccbb090>,\n",
       "        <matplotlib.axes._subplots.AxesSubplot object at 0x1a1cbd8d10>,\n",
       "        <matplotlib.axes._subplots.AxesSubplot object at 0x1a1ccfee90>],\n",
       "       [<matplotlib.axes._subplots.AxesSubplot object at 0x109314090>,\n",
       "        <matplotlib.axes._subplots.AxesSubplot object at 0x109348250>,\n",
       "        <matplotlib.axes._subplots.AxesSubplot object at 0x1093ba410>],\n",
       "       [<matplotlib.axes._subplots.AxesSubplot object at 0x1a1cd825d0>,\n",
       "        <matplotlib.axes._subplots.AxesSubplot object at 0x1a1cdba790>,\n",
       "        <matplotlib.axes._subplots.AxesSubplot object at 0x1a1cdf0950>]],\n",
       "      dtype=object)"
      ]
     },
     "execution_count": 48,
     "metadata": {},
     "output_type": "execute_result"
    },
    {
     "data": {
      "image/png": "[encoded data removed]",
      "text/plain": [
       "<Figure size 864x576 with 9 Axes>"
      ]
     },
     "metadata": {
      "needs_background": "light"
     },
     "output_type": "display_data"
    }
   ],
   "source": [
    "# Lets view correlations via a scatter matrix\n",
    "from pandas.plotting import scatter_matrix\n",
    "\n",
    "attributes = [\"tip\", \"total_bill\", \"size\"]\n",
    "scatter_matrix(tips_data[attributes], figsize=(12, 8))"
   ]
  },
  {
   "cell_type": "markdown",
   "metadata": {},
   "source": [
    "# Prepare the Data for Machine Learning Algorithms"
   ]
  },
  {
   "cell_type": "code",
   "execution_count": 85,
   "metadata": {},
   "outputs": [],
   "source": [
    "tips = train_set.drop(\"tip\", axis=1) # drop labels for training set, makes a copy of the dataset\n",
    "tips_labels = train_set[\"tip\"].copy()"
   ]
  },
  {
   "cell_type": "markdown",
   "metadata": {},
   "source": [
    "### Data Cleaning"
   ]
  },
  {
   "cell_type": "code",
   "execution_count": 86,
   "metadata": {},
   "outputs": [
    {
     "data": {
      "text/html": [
       "<div>\n",
       "<style scoped>\n",
       "    .dataframe tbody tr th:only-of-type {\n",
       "        vertical-align: middle;\n",
       "    }\n",
       "\n",
       "    .dataframe tbody tr th {\n",
       "        vertical-align: top;\n",
       "    }\n",
       "\n",
       "    .dataframe thead th {\n",
       "        text-align: right;\n",
       "    }\n",
       "</style>\n",
       "<table border=\"1\" class=\"dataframe\">\n",
       "  <thead>\n",
       "    <tr style=\"text-align: right;\">\n",
       "      <th></th>\n",
       "      <th>total_bill</th>\n",
       "      <th>size</th>\n",
       "    </tr>\n",
       "  </thead>\n",
       "  <tbody>\n",
       "    <tr>\n",
       "      <th>228</th>\n",
       "      <td>13.28</td>\n",
       "      <td>2</td>\n",
       "    </tr>\n",
       "    <tr>\n",
       "      <th>208</th>\n",
       "      <td>24.27</td>\n",
       "      <td>2</td>\n",
       "    </tr>\n",
       "    <tr>\n",
       "      <th>96</th>\n",
       "      <td>27.28</td>\n",
       "      <td>2</td>\n",
       "    </tr>\n",
       "    <tr>\n",
       "      <th>167</th>\n",
       "      <td>31.71</td>\n",
       "      <td>4</td>\n",
       "    </tr>\n",
       "    <tr>\n",
       "      <th>84</th>\n",
       "      <td>15.98</td>\n",
       "      <td>2</td>\n",
       "    </tr>\n",
       "  </tbody>\n",
       "</table>\n",
       "</div>"
      ],
      "text/plain": [
       "     total_bill  size\n",
       "228       13.28     2\n",
       "208       24.27     2\n",
       "96        27.28     2\n",
       "167       31.71     4\n",
       "84        15.98     2"
      ]
     },
     "execution_count": 86,
     "metadata": {},
     "output_type": "execute_result"
    }
   ],
   "source": [
    "# Drop text attributes to allow for additional processing (e.g., feature scaling)\n",
    "tips_num = tips.drop(['sex', 'smoker','day','time'], axis=1)\n",
    "tips_num.head()"
   ]
  },
  {
   "cell_type": "markdown",
   "metadata": {},
   "source": [
    "### Handling Text and Categorical Attributes"
   ]
  },
  {
   "cell_type": "code",
   "execution_count": 146,
   "metadata": {},
   "outputs": [],
   "source": [
    "# Let's preprocess the categorical input features\n",
    "categories_list = tips[['sex','smoker','day','time']]"
   ]
  },
  {
   "cell_type": "code",
   "execution_count": 147,
   "metadata": {},
   "outputs": [],
   "source": [
    "try:\n",
    "    from sklearn.preprocessing import OrdinalEncoder # just to raise an ImportError if Scikit-Learn < 0.20\n",
    "    from sklearn.preprocessing import OneHotEncoder\n",
    "except ImportError:\n",
    "    from future_encoders import OneHotEncoder # Scikit-Learn < 0.20"
   ]
  },
  {
   "cell_type": "code",
   "execution_count": 148,
   "metadata": {},
   "outputs": [],
   "source": [
    "cat_encoder = OneHotEncoder(sparse=False)\n",
    "\n",
    "encoded_categories = cat_encoder.fit_transform(categories_list)\n",
    "\n",
    "#sex_category_1hot = cat_encoder.fit_transform(sex_category)\n",
    "#smoker_category_1hot = cat_encoder.fit_transform(smoker_category)\n",
    "#day_catgory_1hot = cat_encoder.fit_transform(day_catgory)\n",
    "#time_category_1hot = cat_encoder.fit_transform(time_category)"
   ]
  },
  {
   "cell_type": "code",
   "execution_count": 184,
   "metadata": {},
   "outputs": [
    {
     "data": {
      "text/plain": [
       "[array(['Female', 'Male'], dtype=object),\n",
       " array(['No', 'Yes'], dtype=object),\n",
       " array(['Fri', 'Sat', 'Sun', 'Thur'], dtype=object),\n",
       " array(['Dinner', 'Lunch'], dtype=object)]"
      ]
     },
     "execution_count": 184,
     "metadata": {},
     "output_type": "execute_result"
    }
   ],
   "source": [
    "cat_encoder.categories_"
   ]
  },
  {
   "cell_type": "markdown",
   "metadata": {},
   "source": [
    "### Transform Pipeline"
   ]
  },
  {
   "cell_type": "code",
   "execution_count": 150,
   "metadata": {},
   "outputs": [
    {
     "data": {
      "text/plain": [
       "array([[-7.93061551e-01, -6.12140682e-01],\n",
       "       [ 4.63227437e-01, -6.12140682e-01],\n",
       "       [ 8.07306586e-01, -6.12140682e-01],\n",
       "       [ 1.31370879e+00,  1.51942062e+00],\n",
       "       [-4.84419124e-01, -6.12140682e-01],\n",
       "       [-8.31839702e-02, -6.12140682e-01],\n",
       "       [-8.21639553e-01, -6.12140682e-01],\n",
       "       [-1.48236297e+00, -6.12140682e-01],\n",
       "       [-2.74085027e-01, -6.12140682e-01],\n",
       "       [-3.38099752e-01,  4.53639970e-01],\n",
       "       [-5.17569607e-01,  4.53639970e-01],\n",
       "       [ 1.10108845e+00,  2.58520127e+00],\n",
       "       [-3.32384151e-01, -6.12140682e-01],\n",
       "       [ 3.55774147e-01, -6.12140682e-01],\n",
       "       [-4.51268642e-01, -6.12140682e-01],\n",
       "       [ 1.40691704e-03, -6.12140682e-01],\n",
       "       [ 8.02822038e-02, -6.12140682e-01],\n",
       "       [-5.95301774e-01, -6.12140682e-01],\n",
       "       [-1.48236297e+00, -1.67792133e+00],\n",
       "       [ 7.28431299e-01,  4.53639970e-01],\n",
       "       [ 4.91805439e-01,  4.53639970e-01],\n",
       "       [-5.11766075e-02,  1.51942062e+00],\n",
       "       [ 9.06758034e-01,  2.58520127e+00],\n",
       "       [-3.34670392e-01, -6.12140682e-01],\n",
       "       [-6.48940486e-02, -6.12140682e-01],\n",
       "       [-5.35859529e-01, -6.12140682e-01],\n",
       "       [ 2.65555592e-02,  1.51942062e+00],\n",
       "       [ 1.64978610e+00,  1.51942062e+00],\n",
       "       [ 5.79825686e-01,  1.51942062e+00],\n",
       "       [ 2.03387445e+00,  1.51942062e+00],\n",
       "       [ 1.09537285e+00,  3.65098192e+00],\n",
       "       [-1.19315359e+00, -6.12140682e-01],\n",
       "       [ 6.27836731e-01,  4.53639970e-01],\n",
       "       [-1.57398844e-02,  4.53639970e-01],\n",
       "       [-1.03425989e+00, -6.12140682e-01],\n",
       "       [ 2.11617910e+00,  1.51942062e+00],\n",
       "       [-4.58127362e-01,  4.53639970e-01],\n",
       "       [-2.13499661e-01,  1.51942062e+00],\n",
       "       [-5.48433850e-01, -6.12140682e-01],\n",
       "       [ 4.39221914e-01,  4.53639970e-01],\n",
       "       [ 1.69445571e-01, -6.12140682e-01],\n",
       "       [-7.17615624e-01, -6.12140682e-01],\n",
       "       [ 1.00735260e+00,  4.53639970e-01],\n",
       "       [-1.33718672e+00, -6.12140682e-01],\n",
       "       [-4.45553041e-01, -6.12140682e-01],\n",
       "       [-3.09521750e-01, -6.12140682e-01],\n",
       "       [-1.13485446e+00, -6.12140682e-01],\n",
       "       [ 2.28078839e+00,  1.51942062e+00],\n",
       "       [-3.14094230e-01, -6.12140682e-01],\n",
       "       [-4.15831919e-01, -6.12140682e-01],\n",
       "       [-2.62653826e-01, -6.12140682e-01],\n",
       "       [-3.15237350e-01, -6.12140682e-01],\n",
       "       [-2.26073982e-01, -6.12140682e-01],\n",
       "       [-4.84419124e-01,  4.53639970e-01],\n",
       "       [ 2.90616302e-01, -6.12140682e-01],\n",
       "       [-4.32978720e-01, -6.12140682e-01],\n",
       "       [-7.82773470e-01, -6.12140682e-01],\n",
       "       [-1.16000310e+00, -6.12140682e-01],\n",
       "       [-7.94204671e-01, -6.12140682e-01],\n",
       "       [ 3.37484226e-01,  1.51942062e+00],\n",
       "       [-5.41575129e-01, -6.12140682e-01],\n",
       "       [-3.68963995e-01, -6.12140682e-01],\n",
       "       [ 9.05702847e-02,  4.53639970e-01],\n",
       "       [ 7.98161625e-01,  1.51942062e+00],\n",
       "       [ 2.30030937e-01, -6.12140682e-01],\n",
       "       [-1.01368373e+00, -6.12140682e-01],\n",
       "       [-6.93610102e-01, -6.12140682e-01],\n",
       "       [-9.54241485e-01, -6.12140682e-01],\n",
       "       [ 1.44974008e+00, -6.12140682e-01],\n",
       "       [ 1.00049388e+00, -6.12140682e-01],\n",
       "       [ 1.67036226e+00,  1.51942062e+00],\n",
       "       [ 3.49706818e+00,  4.53639970e-01],\n",
       "       [-8.63934997e-01, -6.12140682e-01],\n",
       "       [ 9.05702847e-02, -6.12140682e-01],\n",
       "       [-4.46696161e-01,  4.53639970e-01],\n",
       "       [ 7.81014824e-01,  3.65098192e+00],\n",
       "       [-7.32476186e-01, -6.12140682e-01],\n",
       "       [-5.08424647e-01, -6.12140682e-01],\n",
       "       [-8.90226759e-01, -6.12140682e-01],\n",
       "       [-7.80487230e-01, -6.12140682e-01],\n",
       "       [-1.13028198e+00, -6.12140682e-01],\n",
       "       [ 1.71951642e+00,  1.51942062e+00],\n",
       "       [ 1.78467427e+00,  4.53639970e-01],\n",
       "       [-8.60505637e-01, -6.12140682e-01],\n",
       "       [-7.02755063e-01, -6.12140682e-01],\n",
       "       [ 4.99807280e-01,  1.51942062e+00],\n",
       "       [-6.81035781e-01, -6.12140682e-01],\n",
       "       [-5.89586173e-01, -6.12140682e-01],\n",
       "       [ 1.60977689e+00,  3.65098192e+00],\n",
       "       [ 1.32971247e+00, -6.12140682e-01],\n",
       "       [-4.82132884e-01, -6.12140682e-01],\n",
       "       [-1.05140669e+00, -6.12140682e-01],\n",
       "       [-1.33832984e+00, -6.12140682e-01],\n",
       "       [-1.01025437e+00, -6.12140682e-01],\n",
       "       [-9.21091002e-01, -6.12140682e-01],\n",
       "       [ 2.32422696e+00, -6.12140682e-01],\n",
       "       [-9.37094683e-01, -6.12140682e-01],\n",
       "       [-4.28406240e-01,  4.53639970e-01],\n",
       "       [-3.00376789e-01,  4.53639970e-01],\n",
       "       [ 1.16396006e+00,  1.51942062e+00],\n",
       "       [ 1.13423893e+00,  1.51942062e+00],\n",
       "       [-4.77560404e-01,  4.53639970e-01],\n",
       "       [-4.87848485e-01, -6.12140682e-01],\n",
       "       [ 2.19505438e+00,  1.51942062e+00],\n",
       "       [ 2.87292460e+00,  4.53639970e-01],\n",
       "       [-1.21372975e+00, -6.12140682e-01],\n",
       "       [-4.06686958e-01, -6.12140682e-01],\n",
       "       [ 1.26341150e+00,  4.53639970e-01],\n",
       "       [ 3.57005200e-02,  1.51942062e+00],\n",
       "       [ 1.39258408e+00,  1.51942062e+00],\n",
       "       [ 2.89473182e-01, -6.12140682e-01],\n",
       "       [ 5.39904415e-02,  2.58520127e+00],\n",
       "       [-1.20458479e+00, -6.12140682e-01],\n",
       "       [-1.35661976e+00, -6.12140682e-01],\n",
       "       [-5.17569607e-01, -6.12140682e-01],\n",
       "       [ 3.95783351e-01, -6.12140682e-01],\n",
       "       [-5.55292571e-01, -6.12140682e-01],\n",
       "       [-1.17486366e+00, -6.12140682e-01],\n",
       "       [-9.09659801e-01, -6.12140682e-01],\n",
       "       [-7.77057869e-01, -6.12140682e-01],\n",
       "       [ 1.44173824e+00, -6.12140682e-01],\n",
       "       [-1.15771686e+00, -6.12140682e-01],\n",
       "       [-2.48936384e-01, -6.12140682e-01],\n",
       "       [-7.32476186e-01, -6.12140682e-01],\n",
       "       [-8.88995707e-02, -6.12140682e-01],\n",
       "       [-2.78657507e-01, -6.12140682e-01],\n",
       "       [-8.54790036e-01, -6.12140682e-01],\n",
       "       [ 7.61581782e-01,  1.51942062e+00],\n",
       "       [-5.03852166e-01, -6.12140682e-01],\n",
       "       [-7.10756904e-01, -6.12140682e-01],\n",
       "       [ 2.59752059e-01, -6.12140682e-01],\n",
       "       [ 1.42459144e+00, -6.12140682e-01],\n",
       "       [-9.86248847e-01, -6.12140682e-01],\n",
       "       [-1.33032800e+00, -1.67792133e+00],\n",
       "       [ 1.07717086e-01, -6.12140682e-01],\n",
       "       [-5.91872414e-01, -6.12140682e-01],\n",
       "       [-2.04354701e-01,  1.51942062e+00],\n",
       "       [ 3.20671567e+00,  1.51942062e+00],\n",
       "       [-8.52503796e-01, -6.12140682e-01],\n",
       "       [ 5.97939743e-03, -6.12140682e-01],\n",
       "       [-4.48982401e-01,  4.53639970e-01],\n",
       "       [ 6.19922822e-02, -6.12140682e-01],\n",
       "       [ 7.59295542e-01, -6.12140682e-01],\n",
       "       [-9.83962607e-01, -6.12140682e-01],\n",
       "       [-2.23787742e-01, -6.12140682e-01],\n",
       "       [-7.66769789e-01, -6.12140682e-01],\n",
       "       [-7.77057869e-01, -6.12140682e-01],\n",
       "       [-2.20358382e-01,  1.51942062e+00],\n",
       "       [ 6.10689929e-01,  1.51942062e+00],\n",
       "       [ 5.70680726e-01, -6.12140682e-01],\n",
       "       [-8.77652438e-01, -6.12140682e-01],\n",
       "       [ 4.33506314e-01,  1.51942062e+00],\n",
       "       [-3.88397036e-01, -6.12140682e-01],\n",
       "       [ 3.21357439e+00,  1.51942062e+00],\n",
       "       [ 3.29482385e-01,  4.53639970e-01],\n",
       "       [ 7.95875385e-01, -6.12140682e-01],\n",
       "       [-8.36500115e-01, -6.12140682e-01],\n",
       "       [-1.09598838e+00, -6.12140682e-01],\n",
       "       [-1.02625805e+00, -6.12140682e-01],\n",
       "       [ 9.52482838e-01,  4.53639970e-01],\n",
       "       [ 5.13524721e-01, -6.12140682e-01],\n",
       "       [ 8.26563763e-03, -6.12140682e-01],\n",
       "       [ 7.07855137e-01, -6.12140682e-01],\n",
       "       [-4.36408080e-01, -6.12140682e-01],\n",
       "       [ 1.46583169e-01,  1.51942062e+00],\n",
       "       [-8.70793718e-01, -6.12140682e-01],\n",
       "       [ 1.17081878e+00,  2.58520127e+00],\n",
       "       [-4.66041271e-02, -6.12140682e-01],\n",
       "       [ 2.97475022e-01,  4.53639970e-01],\n",
       "       [-3.75822715e-01,  4.53639970e-01],\n",
       "       [ 5.46675204e-01,  1.51942062e+00],\n",
       "       [ 2.17456616e-01, -6.12140682e-01],\n",
       "       [-1.12913886e+00,  4.53639970e-01],\n",
       "       [ 1.66807602e+00,  1.51942062e+00],\n",
       "       [-1.45264185e+00, -6.12140682e-01],\n",
       "       [-1.30051894e-01, -6.12140682e-01],\n",
       "       [-8.10208352e-01, -6.12140682e-01],\n",
       "       [ 2.51750218e-01, -6.12140682e-01],\n",
       "       [-8.86797399e-01, -6.12140682e-01],\n",
       "       [ 1.11023341e+00,  1.51942062e+00],\n",
       "       [-2.21501502e-01, -6.12140682e-01],\n",
       "       [-8.25068914e-01, -6.12140682e-01],\n",
       "       [-6.27309137e-01, -6.12140682e-01],\n",
       "       [ 9.09044275e-01,  4.53639970e-01],\n",
       "       [ 1.12509397e+00,  4.53639970e-01],\n",
       "       [-7.77057869e-01, -6.12140682e-01],\n",
       "       [-1.64345497e-01, -6.12140682e-01],\n",
       "       [-2.62653826e-01, -6.12140682e-01],\n",
       "       [-2.36362063e-01,  4.53639970e-01],\n",
       "       [-3.59819034e-01,  4.53639970e-01],\n",
       "       [ 3.11280396e-02, -6.12140682e-01],\n",
       "       [-6.15877936e-01, -6.12140682e-01],\n",
       "       [-1.65383098e+00, -6.12140682e-01],\n",
       "       [ 1.64749986e+00, -6.12140682e-01],\n",
       "       [ 2.75289699e+00,  4.53639970e-01]])"
      ]
     },
     "execution_count": 150,
     "metadata": {},
     "output_type": "execute_result"
    }
   ],
   "source": [
    "from sklearn.pipeline import Pipeline\n",
    "from sklearn.preprocessing import StandardScaler\n",
    "\n",
    "num_pipeline = Pipeline([\n",
    "        ('std_scaler', StandardScaler()), # scaling the features\n",
    "    ])\n",
    "\n",
    "tips_num_tr = num_pipeline.fit_transform(tips_num)\n",
    "tips_num_tr"
   ]
  },
  {
   "cell_type": "code",
   "execution_count": 151,
   "metadata": {},
   "outputs": [],
   "source": [
    "try:\n",
    "    from sklearn.compose import ColumnTransformer\n",
    "except ImportError:\n",
    "    from future_encoders import ColumnTransformer # Scikit-Learn < 0.20"
   ]
  },
  {
   "cell_type": "code",
   "execution_count": 152,
   "metadata": {},
   "outputs": [],
   "source": [
    "num_attribs = list(tips_num)\n",
    "cat_attribs = [\"sex\", \"smoker\", \"day\", \"time\"]\n",
    "\n",
    "full_pipeline = ColumnTransformer([\n",
    "        (\"num\", num_pipeline, num_attribs),\n",
    "        (\"cat\", OneHotEncoder(), cat_attribs),\n",
    "    ])\n",
    "\n",
    "tips_prepared = full_pipeline.fit_transform(tips)"
   ]
  },
  {
   "cell_type": "code",
   "execution_count": 153,
   "metadata": {},
   "outputs": [
    {
     "data": {
      "text/plain": [
       "array([[-0.79306155, -0.61214068,  0.        , ...,  0.        ,\n",
       "         1.        ,  0.        ],\n",
       "       [ 0.46322744, -0.61214068,  0.        , ...,  0.        ,\n",
       "         1.        ,  0.        ],\n",
       "       [ 0.80730659, -0.61214068,  0.        , ...,  0.        ,\n",
       "         1.        ,  0.        ],\n",
       "       ...,\n",
       "       [-1.65383098, -0.61214068,  1.        , ...,  0.        ,\n",
       "         1.        ,  0.        ],\n",
       "       [ 1.64749986, -0.61214068,  0.        , ...,  0.        ,\n",
       "         1.        ,  0.        ],\n",
       "       [ 2.75289699,  0.45363997,  1.        , ...,  0.        ,\n",
       "         1.        ,  0.        ]])"
      ]
     },
     "execution_count": 153,
     "metadata": {},
     "output_type": "execute_result"
    }
   ],
   "source": [
    "tips_prepared"
   ]
  },
  {
   "cell_type": "code",
   "execution_count": 154,
   "metadata": {},
   "outputs": [
    {
     "data": {
      "text/plain": [
       "(195, 12)"
      ]
     },
     "execution_count": 154,
     "metadata": {},
     "output_type": "execute_result"
    }
   ],
   "source": [
    "# Check if shape matches test count from earlier\n",
    "tips_prepared.shape"
   ]
  },
  {
   "cell_type": "markdown",
   "metadata": {},
   "source": [
    "# Select and Train a Model"
   ]
  },
  {
   "cell_type": "markdown",
   "metadata": {},
   "source": [
    "### Train and Evaluating on the Training Set"
   ]
  },
  {
   "cell_type": "markdown",
   "metadata": {},
   "source": [
    "#### Linear Regression"
   ]
  },
  {
   "cell_type": "code",
   "execution_count": 155,
   "metadata": {},
   "outputs": [
    {
     "data": {
      "text/plain": [
       "LinearRegression(copy_X=True, fit_intercept=True, n_jobs=None,\n",
       "         normalize=False)"
      ]
     },
     "execution_count": 155,
     "metadata": {},
     "output_type": "execute_result"
    }
   ],
   "source": [
    "from sklearn.linear_model import LinearRegression\n",
    "\n",
    "lin_reg = LinearRegression()\n",
    "lin_reg.fit(tips_prepared, tips_labels)"
   ]
  },
  {
   "cell_type": "code",
   "execution_count": 156,
   "metadata": {},
   "outputs": [
    {
     "name": "stdout",
     "output_type": "stream",
     "text": [
      "Predictions: [2.29503004 3.14342689 3.6142584  4.64230595 2.65174081]\n"
     ]
    }
   ],
   "source": [
    "# let's try the full preprocessing pipeline on a few training instances\n",
    "some_data = tips.iloc[:5]\n",
    "some_labels = tips_labels.iloc[:5]\n",
    "some_data_prepared = full_pipeline.transform(some_data)\n",
    "\n",
    "print(\"Predictions:\", lin_reg.predict(some_data_prepared))"
   ]
  },
  {
   "cell_type": "code",
   "execution_count": 157,
   "metadata": {},
   "outputs": [
    {
     "name": "stdout",
     "output_type": "stream",
     "text": [
      "Labels: [2.72, 2.03, 4.0, 4.5, 2.03]\n"
     ]
    }
   ],
   "source": [
    "# compare against actual values:\n",
    "print(\"Labels:\", list(some_labels))"
   ]
  },
  {
   "cell_type": "code",
   "execution_count": 158,
   "metadata": {},
   "outputs": [
    {
     "data": {
      "text/plain": [
       "1.0491326804711238"
      ]
     },
     "execution_count": 158,
     "metadata": {},
     "output_type": "execute_result"
    }
   ],
   "source": [
    "# Let's measure this regression model's RMSE on the whole training set using SciKit-Learn's mean_squared_error fn\n",
    "from sklearn.metrics import mean_squared_error\n",
    "\n",
    "tips_predictions = lin_reg.predict(tips_prepared)\n",
    "lin_mse = mean_squared_error(tips_labels, tips_predictions)\n",
    "lin_rmse = np.sqrt(lin_mse)\n",
    "lin_rmse"
   ]
  },
  {
   "cell_type": "markdown",
   "metadata": {},
   "source": [
    "#### Decision Tree"
   ]
  },
  {
   "cell_type": "code",
   "execution_count": 159,
   "metadata": {},
   "outputs": [
    {
     "data": {
      "text/plain": [
       "DecisionTreeRegressor(criterion='mse', max_depth=None, max_features=None,\n",
       "           max_leaf_nodes=None, min_impurity_decrease=0.0,\n",
       "           min_impurity_split=None, min_samples_leaf=1,\n",
       "           min_samples_split=2, min_weight_fraction_leaf=0.0,\n",
       "           presort=False, random_state=42, splitter='best')"
      ]
     },
     "execution_count": 159,
     "metadata": {},
     "output_type": "execute_result"
    }
   ],
   "source": [
    "from sklearn.tree import DecisionTreeRegressor\n",
    "\n",
    "tree_reg = DecisionTreeRegressor(random_state=42)\n",
    "tree_reg.fit(tips_prepared, tips_labels)"
   ]
  },
  {
   "cell_type": "code",
   "execution_count": 160,
   "metadata": {},
   "outputs": [
    {
     "data": {
      "text/plain": [
       "0.0"
      ]
     },
     "execution_count": 160,
     "metadata": {},
     "output_type": "execute_result"
    }
   ],
   "source": [
    "tips_predictions = tree_reg.predict(tips_prepared)\n",
    "tree_mse = mean_squared_error(tips_labels, tips_predictions)\n",
    "tree_rmse = np.sqrt(tree_mse)\n",
    "tree_rmse"
   ]
  },
  {
   "cell_type": "markdown",
   "metadata": {},
   "source": [
    "#### Random Forest"
   ]
  },
  {
   "cell_type": "code",
   "execution_count": 161,
   "metadata": {},
   "outputs": [
    {
     "data": {
      "text/plain": [
       "RandomForestRegressor(bootstrap=True, criterion='mse', max_depth=None,\n",
       "           max_features='auto', max_leaf_nodes=None,\n",
       "           min_impurity_decrease=0.0, min_impurity_split=None,\n",
       "           min_samples_leaf=1, min_samples_split=2,\n",
       "           min_weight_fraction_leaf=0.0, n_estimators=10, n_jobs=None,\n",
       "           oob_score=False, random_state=42, verbose=0, warm_start=False)"
      ]
     },
     "execution_count": 161,
     "metadata": {},
     "output_type": "execute_result"
    }
   ],
   "source": [
    "from sklearn.ensemble import RandomForestRegressor\n",
    "\n",
    "forest_reg = RandomForestRegressor(n_estimators=10, random_state=42)\n",
    "forest_reg.fit(tips_prepared, tips_labels)"
   ]
  },
  {
   "cell_type": "code",
   "execution_count": 162,
   "metadata": {},
   "outputs": [
    {
     "data": {
      "text/plain": [
       "0.4603249075520687"
      ]
     },
     "execution_count": 162,
     "metadata": {},
     "output_type": "execute_result"
    }
   ],
   "source": [
    "tips_predictions = forest_reg.predict(tips_prepared)\n",
    "forest_mse = mean_squared_error(tips_labels, tips_predictions)\n",
    "forest_rmse = np.sqrt(forest_mse)\n",
    "forest_rmse"
   ]
  },
  {
   "cell_type": "markdown",
   "metadata": {},
   "source": [
    "### Better Evaluation Using Cross Validation"
   ]
  },
  {
   "cell_type": "code",
   "execution_count": 163,
   "metadata": {},
   "outputs": [],
   "source": [
    "from sklearn.model_selection import cross_val_score\n",
    "\n",
    "def display_scores(scores):\n",
    "    print(\"Scores:\", scores)\n",
    "    print(\"Mean:\", scores.mean())\n",
    "    print(\"Standard deviation:\", scores.std())"
   ]
  },
  {
   "cell_type": "code",
   "execution_count": 164,
   "metadata": {},
   "outputs": [
    {
     "name": "stdout",
     "output_type": "stream",
     "text": [
      "Scores: [1.19726118 1.0918129  1.11373482 1.23418763 0.73296815 1.1286172\n",
      " 0.895317   1.11666592 1.26877463 1.22056651]\n",
      "Mean: 1.0999905916266228\n",
      "Standard deviation: 0.15762204744501931\n"
     ]
    }
   ],
   "source": [
    "# Cross validate linear regression model\n",
    "lin_scores = cross_val_score(lin_reg, tips_prepared, tips_labels, scoring=\"neg_mean_squared_error\", cv=10)\n",
    "lin_rmse_scores = np.sqrt(-lin_scores)\n",
    "display_scores(lin_rmse_scores)"
   ]
  },
  {
   "cell_type": "code",
   "execution_count": 165,
   "metadata": {},
   "outputs": [
    {
     "name": "stdout",
     "output_type": "stream",
     "text": [
      "Scores: [1.43540238 1.7503671  1.40079085 1.1093737  0.90024997 1.39189572\n",
      " 1.22266103 1.96820918 1.44727693 1.46689432]\n",
      "Mean: 1.409312117919659\n",
      "Standard deviation: 0.28608461495925364\n"
     ]
    }
   ],
   "source": [
    "# Cross validate decision tree model <performs worse since it's overfitting>\n",
    "tree_scores = cross_val_score(tree_reg, tips_prepared, tips_labels, scoring=\"neg_mean_squared_error\", cv=10)\n",
    "tree_rmse_scores = np.sqrt(-tree_scores)\n",
    "display_scores(tree_rmse_scores)"
   ]
  },
  {
   "cell_type": "code",
   "execution_count": 166,
   "metadata": {},
   "outputs": [
    {
     "name": "stdout",
     "output_type": "stream",
     "text": [
      "Scores: [1.16030446 0.7781495  1.14374702 1.24191193 0.58110051 1.20048411\n",
      " 0.90086482 1.16781167 1.33166498 1.23609717]\n",
      "Mean: 1.0742136189229226\n",
      "Standard deviation: 0.22768967541137797\n"
     ]
    }
   ],
   "source": [
    "# Cross validate random forest model <performs the best>\n",
    "forest_scores = cross_val_score(forest_reg, tips_prepared, tips_labels, scoring=\"neg_mean_squared_error\", cv=10)\n",
    "forest_rmse_scores = np.sqrt(-forest_scores)\n",
    "display_scores(forest_rmse_scores)"
   ]
  },
  {
   "cell_type": "code",
   "execution_count": 167,
   "metadata": {},
   "outputs": [],
   "source": [
    "# NOTE: Scores on the training set are still much lower than on the validation sets, meaning that the model is still\n",
    "# overfitting the training set"
   ]
  },
  {
   "cell_type": "markdown",
   "metadata": {},
   "source": [
    "# Fine-Tune Your Model"
   ]
  },
  {
   "cell_type": "markdown",
   "metadata": {},
   "source": [
    "### Grid Search"
   ]
  },
  {
   "cell_type": "code",
   "execution_count": 168,
   "metadata": {},
   "outputs": [
    {
     "data": {
      "text/plain": [
       "GridSearchCV(cv=5, error_score='raise-deprecating',\n",
       "       estimator=RandomForestRegressor(bootstrap=True, criterion='mse', max_depth=None,\n",
       "           max_features='auto', max_leaf_nodes=None,\n",
       "           min_impurity_decrease=0.0, min_impurity_split=None,\n",
       "           min_samples_leaf=1, min_samples_split=2,\n",
       "           min_weight_fraction_leaf=0.0, n_estimators='warn', n_jobs=None,\n",
       "           oob_score=False, random_state=42, verbose=0, warm_start=False),\n",
       "       fit_params=None, iid='warn', n_jobs=None,\n",
       "       param_grid=[{u'n_estimators': [3, 10, 30], u'max_features': [2, 4, 6, 8]}, {u'n_estimators': [3, 10], u'max_features': [2, 3, 4], u'bootstrap': [False]}],\n",
       "       pre_dispatch='2*n_jobs', refit=True, return_train_score=True,\n",
       "       scoring=u'neg_mean_squared_error', verbose=0)"
      ]
     },
     "execution_count": 168,
     "metadata": {},
     "output_type": "execute_result"
    }
   ],
   "source": [
    "# Grid Search - process evaluates all the possible combinations of hyperparameters values, using cross-validation\n",
    "from sklearn.model_selection import GridSearchCV\n",
    "\n",
    "param_grid = [\n",
    "    # try 12 (3×4) combinations of hyperparameters\n",
    "    {'n_estimators': [3, 10, 30], 'max_features': [2, 4, 6, 8]},\n",
    "    # then try 6 (2×3) combinations with bootstrap set as False\n",
    "    {'bootstrap': [False], 'n_estimators': [3, 10], 'max_features': [2, 3, 4]},\n",
    "  ]\n",
    "\n",
    "forest_reg = RandomForestRegressor(random_state=42)\n",
    "# train across 5 folds, that's a total of (12+6)*5=90 rounds of training \n",
    "grid_search = GridSearchCV(forest_reg, param_grid, cv=5, scoring='neg_mean_squared_error', return_train_score=True)\n",
    "grid_search.fit(tips_prepared, tips_labels)"
   ]
  },
  {
   "cell_type": "code",
   "execution_count": 169,
   "metadata": {},
   "outputs": [
    {
     "data": {
      "text/plain": [
       "{u'max_features': 2, u'n_estimators': 10}"
      ]
     },
     "execution_count": 169,
     "metadata": {},
     "output_type": "execute_result"
    }
   ],
   "source": [
    "# Best hyperparameter combination found\n",
    "grid_search.best_params_"
   ]
  },
  {
   "cell_type": "code",
   "execution_count": 170,
   "metadata": {},
   "outputs": [
    {
     "data": {
      "text/plain": [
       "RandomForestRegressor(bootstrap=True, criterion='mse', max_depth=None,\n",
       "           max_features=2, max_leaf_nodes=None, min_impurity_decrease=0.0,\n",
       "           min_impurity_split=None, min_samples_leaf=1,\n",
       "           min_samples_split=2, min_weight_fraction_leaf=0.0,\n",
       "           n_estimators=10, n_jobs=None, oob_score=False, random_state=42,\n",
       "           verbose=0, warm_start=False)"
      ]
     },
     "execution_count": 170,
     "metadata": {},
     "output_type": "execute_result"
    }
   ],
   "source": [
    "# Get the best estimator directly\n",
    "grid_search.best_estimator_"
   ]
  },
  {
   "cell_type": "code",
   "execution_count": 201,
   "metadata": {},
   "outputs": [
    {
     "name": "stdout",
     "output_type": "stream",
     "text": [
      "1.1896424562822117 {u'max_features': 2, u'n_estimators': 3}\n",
      "1.0909217791414416 {u'max_features': 2, u'n_estimators': 10}\n",
      "1.1017650400238714 {u'max_features': 2, u'n_estimators': 30}\n",
      "1.2600276983343663 {u'max_features': 4, u'n_estimators': 3}\n",
      "1.1579891456911249 {u'max_features': 4, u'n_estimators': 10}\n",
      "1.093802035245726 {u'max_features': 4, u'n_estimators': 30}\n",
      "1.2724732630307818 {u'max_features': 6, u'n_estimators': 3}\n",
      "1.153578250266179 {u'max_features': 6, u'n_estimators': 10}\n",
      "1.1035262405275026 {u'max_features': 6, u'n_estimators': 30}\n",
      "1.2320549160809822 {u'max_features': 8, u'n_estimators': 3}\n",
      "1.1136264967927865 {u'max_features': 8, u'n_estimators': 10}\n",
      "1.0927140303559537 {u'max_features': 8, u'n_estimators': 30}\n",
      "1.3468338518545724 {u'max_features': 2, u'n_estimators': 3, u'bootstrap': False}\n",
      "1.3196807927949072 {u'max_features': 2, u'n_estimators': 10, u'bootstrap': False}\n",
      "1.3659368074048528 {u'max_features': 3, u'n_estimators': 3, u'bootstrap': False}\n",
      "1.310681091294493 {u'max_features': 3, u'n_estimators': 10, u'bootstrap': False}\n",
      "1.3062291261162913 {u'max_features': 4, u'n_estimators': 3, u'bootstrap': False}\n",
      "1.1960069783691447 {u'max_features': 4, u'n_estimators': 10, u'bootstrap': False}\n"
     ]
    }
   ],
   "source": [
    "# Let's look at the score of each hyperparameter combination tested during the grid search:\n",
    "# Note best is {u'max_features': 2, u'n_estimators': 10}\n",
    "cvres = grid_search.cv_results_\n",
    "for mean_score, params in zip(cvres[\"mean_test_score\"], cvres[\"params\"]):\n",
    "    print(np.sqrt(-mean_score), params)"
   ]
  },
  {
   "cell_type": "markdown",
   "metadata": {},
   "source": [
    "### Analyze the Best Models and Their Errors"
   ]
  },
  {
   "cell_type": "code",
   "execution_count": 173,
   "metadata": {},
   "outputs": [
    {
     "data": {
      "text/plain": [
       "array([0.70687417, 0.1347647 , 0.02212293, 0.0058148 , 0.04473736,\n",
       "       0.01952905, 0.00808495, 0.0179169 , 0.01773985, 0.00682449,\n",
       "       0.01270203, 0.00288877])"
      ]
     },
     "execution_count": 173,
     "metadata": {},
     "output_type": "execute_result"
    }
   ],
   "source": [
    "# Evaluate the relative imporative of each attribute\n",
    "feature_importances = grid_search.best_estimator_.feature_importances_\n",
    "feature_importances"
   ]
  },
  {
   "cell_type": "code",
   "execution_count": 177,
   "metadata": {},
   "outputs": [
    {
     "data": {
      "text/plain": [
       "[(0.7068741741698761, 'total_bill'),\n",
       " (0.13476470211074723, 'size'),\n",
       " (0.04473736272372937, array(['Fri', 'Sat', 'Sun', 'Thur'], dtype=object)),\n",
       " (0.02212292604341111, array(['Female', 'Male'], dtype=object)),\n",
       " (0.01952905462331563, array(['Dinner', 'Lunch'], dtype=object)),\n",
       " (0.005814797164876885, array(['No', 'Yes'], dtype=object))]"
      ]
     },
     "execution_count": 177,
     "metadata": {},
     "output_type": "execute_result"
    }
   ],
   "source": [
    "# Let's display these importance scores next to their corresponding attribute names:\n",
    "cat_one_hot_attribs = list(cat_encoder.categories_)\n",
    "attributes = num_attribs + cat_one_hot_attribs\n",
    "sorted(zip(feature_importances, attributes), reverse=True)"
   ]
  },
  {
   "cell_type": "markdown",
   "metadata": {},
   "source": [
    "### Evaluate Your System on the Test Set"
   ]
  },
  {
   "cell_type": "code",
   "execution_count": 191,
   "metadata": {},
   "outputs": [],
   "source": [
    "final_model = grid_search.best_estimator_"
   ]
  },
  {
   "cell_type": "code",
   "execution_count": 192,
   "metadata": {},
   "outputs": [],
   "source": [
    "X_test = test_set.drop(\"tip\", axis=1)\n",
    "y_test = test_set[\"tip\"].copy()"
   ]
  },
  {
   "cell_type": "code",
   "execution_count": 193,
   "metadata": {},
   "outputs": [],
   "source": [
    "X_test_prepared = full_pipeline.transform(X_test)"
   ]
  },
  {
   "cell_type": "code",
   "execution_count": 194,
   "metadata": {},
   "outputs": [],
   "source": [
    "final_predictions = final_model.predict(X_test_prepared)"
   ]
  },
  {
   "cell_type": "code",
   "execution_count": 195,
   "metadata": {},
   "outputs": [
    {
     "data": {
      "text/plain": [
       "0.9729381652856403"
      ]
     },
     "execution_count": 195,
     "metadata": {},
     "output_type": "execute_result"
    }
   ],
   "source": [
    "final_mse = mean_squared_error(y_test, final_predictions)\n",
    "final_rmse = np.sqrt(final_mse)\n",
    "final_rmse"
   ]
  },
  {
   "cell_type": "code",
   "execution_count": null,
   "metadata": {},
   "outputs": [],
   "source": []
  },
  {
   "cell_type": "code",
   "execution_count": null,
   "metadata": {},
   "outputs": [],
   "source": []
  }
 ],
 "metadata": {
  "kernelspec": {
   "display_name": "Python 2",
   "language": "python",
   "name": "python2"
  },
  "language_info": {
   "codemirror_mode": {
    "name": "ipython",
    "version": 2
   },
   "file_extension": ".py",
   "mimetype": "text/x-python",
   "name": "python",
   "nbconvert_exporter": "python",
   "pygments_lexer": "ipython2",
   "version": "2.7.15"
  }
 },
 "nbformat": 4,
 "nbformat_minor": 2
}
